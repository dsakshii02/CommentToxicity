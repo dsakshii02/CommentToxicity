{
 "cells": [
  {
   "cell_type": "markdown",
   "id": "0ef8bfbf-5c5b-4c06-aae3-ed0de7564e48",
   "metadata": {},
   "source": [
    "### Install Dependencies and Bring in Data"
   ]
  },
  {
   "cell_type": "code",
   "execution_count": 1,
   "id": "5d722ff9-4863-4bc7-8d9b-2da7a26ecd80",
   "metadata": {},
   "outputs": [
    {
     "name": "stdout",
     "output_type": "stream",
     "text": [
      "Requirement already satisfied: tensorflow in c:\\users\\dell\\appdata\\local\\programs\\python\\python312\\lib\\site-packages (2.19.0)\n",
      "Requirement already satisfied: pandas in c:\\users\\dell\\appdata\\local\\programs\\python\\python312\\lib\\site-packages (2.2.3)\n",
      "Requirement already satisfied: matplotlib in c:\\users\\dell\\appdata\\local\\programs\\python\\python312\\lib\\site-packages (3.10.5)\n",
      "Requirement already satisfied: scikit-learn in c:\\users\\dell\\appdata\\local\\programs\\python\\python312\\lib\\site-packages (1.7.1)\n",
      "Requirement already satisfied: absl-py>=1.0.0 in c:\\users\\dell\\appdata\\local\\programs\\python\\python312\\lib\\site-packages (from tensorflow) (2.3.1)\n",
      "Requirement already satisfied: astunparse>=1.6.0 in c:\\users\\dell\\appdata\\local\\programs\\python\\python312\\lib\\site-packages (from tensorflow) (1.6.3)\n",
      "Requirement already satisfied: flatbuffers>=24.3.25 in c:\\users\\dell\\appdata\\local\\programs\\python\\python312\\lib\\site-packages (from tensorflow) (25.2.10)\n",
      "Requirement already satisfied: gast!=0.5.0,!=0.5.1,!=0.5.2,>=0.2.1 in c:\\users\\dell\\appdata\\local\\programs\\python\\python312\\lib\\site-packages (from tensorflow) (0.6.0)\n",
      "Requirement already satisfied: google-pasta>=0.1.1 in c:\\users\\dell\\appdata\\local\\programs\\python\\python312\\lib\\site-packages (from tensorflow) (0.2.0)\n",
      "Requirement already satisfied: libclang>=13.0.0 in c:\\users\\dell\\appdata\\local\\programs\\python\\python312\\lib\\site-packages (from tensorflow) (18.1.1)\n",
      "Requirement already satisfied: opt-einsum>=2.3.2 in c:\\users\\dell\\appdata\\local\\programs\\python\\python312\\lib\\site-packages (from tensorflow) (3.4.0)\n",
      "Requirement already satisfied: packaging in c:\\users\\dell\\appdata\\local\\programs\\python\\python312\\lib\\site-packages (from tensorflow) (24.1)\n",
      "Requirement already satisfied: protobuf!=4.21.0,!=4.21.1,!=4.21.2,!=4.21.3,!=4.21.4,!=4.21.5,<6.0.0dev,>=3.20.3 in c:\\users\\dell\\appdata\\local\\programs\\python\\python312\\lib\\site-packages (from tensorflow) (4.25.8)\n",
      "Requirement already satisfied: requests<3,>=2.21.0 in c:\\users\\dell\\appdata\\local\\programs\\python\\python312\\lib\\site-packages (from tensorflow) (2.32.3)\n",
      "Requirement already satisfied: setuptools in c:\\users\\dell\\appdata\\local\\programs\\python\\python312\\lib\\site-packages (from tensorflow) (70.1.1)\n",
      "Requirement already satisfied: six>=1.12.0 in c:\\users\\dell\\appdata\\local\\programs\\python\\python312\\lib\\site-packages (from tensorflow) (1.17.0)\n",
      "Requirement already satisfied: termcolor>=1.1.0 in c:\\users\\dell\\appdata\\local\\programs\\python\\python312\\lib\\site-packages (from tensorflow) (3.1.0)\n",
      "Requirement already satisfied: typing-extensions>=3.6.6 in c:\\users\\dell\\appdata\\local\\programs\\python\\python312\\lib\\site-packages (from tensorflow) (4.13.2)\n",
      "Requirement already satisfied: wrapt>=1.11.0 in c:\\users\\dell\\appdata\\local\\programs\\python\\python312\\lib\\site-packages (from tensorflow) (1.17.2)\n",
      "Requirement already satisfied: grpcio<2.0,>=1.24.3 in c:\\users\\dell\\appdata\\local\\programs\\python\\python312\\lib\\site-packages (from tensorflow) (1.74.0)\n",
      "Requirement already satisfied: tensorboard~=2.19.0 in c:\\users\\dell\\appdata\\local\\programs\\python\\python312\\lib\\site-packages (from tensorflow) (2.19.0)\n",
      "Requirement already satisfied: keras>=3.5.0 in c:\\users\\dell\\appdata\\local\\programs\\python\\python312\\lib\\site-packages (from tensorflow) (3.11.1)\n",
      "Requirement already satisfied: numpy<2.2.0,>=1.26.0 in c:\\users\\dell\\appdata\\local\\programs\\python\\python312\\lib\\site-packages (from tensorflow) (1.26.4)\n",
      "Requirement already satisfied: h5py>=3.11.0 in c:\\users\\dell\\appdata\\local\\programs\\python\\python312\\lib\\site-packages (from tensorflow) (3.14.0)\n",
      "Requirement already satisfied: ml-dtypes<1.0.0,>=0.5.1 in c:\\users\\dell\\appdata\\local\\programs\\python\\python312\\lib\\site-packages (from tensorflow) (0.5.3)\n",
      "Requirement already satisfied: charset-normalizer<4,>=2 in c:\\users\\dell\\appdata\\local\\programs\\python\\python312\\lib\\site-packages (from requests<3,>=2.21.0->tensorflow) (3.4.1)\n",
      "Requirement already satisfied: idna<4,>=2.5 in c:\\users\\dell\\appdata\\local\\programs\\python\\python312\\lib\\site-packages (from requests<3,>=2.21.0->tensorflow) (3.10)\n",
      "Requirement already satisfied: urllib3<3,>=1.21.1 in c:\\users\\dell\\appdata\\local\\programs\\python\\python312\\lib\\site-packages (from requests<3,>=2.21.0->tensorflow) (2.4.0)\n",
      "Requirement already satisfied: certifi>=2017.4.17 in c:\\users\\dell\\appdata\\local\\programs\\python\\python312\\lib\\site-packages (from requests<3,>=2.21.0->tensorflow) (2025.4.26)\n",
      "Requirement already satisfied: markdown>=2.6.8 in c:\\users\\dell\\appdata\\local\\programs\\python\\python312\\lib\\site-packages (from tensorboard~=2.19.0->tensorflow) (3.8.2)\n",
      "Requirement already satisfied: tensorboard-data-server<0.8.0,>=0.7.0 in c:\\users\\dell\\appdata\\local\\programs\\python\\python312\\lib\\site-packages (from tensorboard~=2.19.0->tensorflow) (0.7.2)\n",
      "Requirement already satisfied: werkzeug>=1.0.1 in c:\\users\\dell\\appdata\\local\\programs\\python\\python312\\lib\\site-packages (from tensorboard~=2.19.0->tensorflow) (3.1.3)\n",
      "Requirement already satisfied: python-dateutil>=2.8.2 in c:\\users\\dell\\appdata\\local\\programs\\python\\python312\\lib\\site-packages (from pandas) (2.9.0.post0)\n",
      "Requirement already satisfied: pytz>=2020.1 in c:\\users\\dell\\appdata\\local\\programs\\python\\python312\\lib\\site-packages (from pandas) (2025.2)\n",
      "Requirement already satisfied: tzdata>=2022.7 in c:\\users\\dell\\appdata\\local\\programs\\python\\python312\\lib\\site-packages (from pandas) (2025.2)\n",
      "Requirement already satisfied: contourpy>=1.0.1 in c:\\users\\dell\\appdata\\local\\programs\\python\\python312\\lib\\site-packages (from matplotlib) (1.3.2)\n",
      "Requirement already satisfied: cycler>=0.10 in c:\\users\\dell\\appdata\\local\\programs\\python\\python312\\lib\\site-packages (from matplotlib) (0.12.1)\n",
      "Requirement already satisfied: fonttools>=4.22.0 in c:\\users\\dell\\appdata\\local\\programs\\python\\python312\\lib\\site-packages (from matplotlib) (4.58.5)\n",
      "Requirement already satisfied: kiwisolver>=1.3.1 in c:\\users\\dell\\appdata\\local\\programs\\python\\python312\\lib\\site-packages (from matplotlib) (1.4.8)\n",
      "Requirement already satisfied: pillow>=8 in c:\\users\\dell\\appdata\\local\\programs\\python\\python312\\lib\\site-packages (from matplotlib) (10.3.0)\n",
      "Requirement already satisfied: pyparsing>=2.3.1 in c:\\users\\dell\\appdata\\local\\programs\\python\\python312\\lib\\site-packages (from matplotlib) (3.2.3)\n",
      "Requirement already satisfied: scipy>=1.8.0 in c:\\users\\dell\\appdata\\local\\programs\\python\\python312\\lib\\site-packages (from scikit-learn) (1.16.0)\n",
      "Requirement already satisfied: joblib>=1.2.0 in c:\\users\\dell\\appdata\\local\\programs\\python\\python312\\lib\\site-packages (from scikit-learn) (1.5.1)\n",
      "Requirement already satisfied: threadpoolctl>=3.1.0 in c:\\users\\dell\\appdata\\local\\programs\\python\\python312\\lib\\site-packages (from scikit-learn) (3.6.0)\n",
      "Requirement already satisfied: wheel<1.0,>=0.23.0 in c:\\users\\dell\\appdata\\local\\programs\\python\\python312\\lib\\site-packages (from astunparse>=1.6.0->tensorflow) (0.45.1)\n",
      "Requirement already satisfied: rich in c:\\users\\dell\\appdata\\local\\programs\\python\\python312\\lib\\site-packages (from keras>=3.5.0->tensorflow) (14.1.0)\n",
      "Requirement already satisfied: namex in c:\\users\\dell\\appdata\\local\\programs\\python\\python312\\lib\\site-packages (from keras>=3.5.0->tensorflow) (0.1.0)\n",
      "Requirement already satisfied: optree in c:\\users\\dell\\appdata\\local\\programs\\python\\python312\\lib\\site-packages (from keras>=3.5.0->tensorflow) (0.17.0)\n",
      "Requirement already satisfied: MarkupSafe>=2.1.1 in c:\\users\\dell\\appdata\\local\\programs\\python\\python312\\lib\\site-packages (from werkzeug>=1.0.1->tensorboard~=2.19.0->tensorflow) (3.0.2)\n",
      "Requirement already satisfied: markdown-it-py>=2.2.0 in c:\\users\\dell\\appdata\\local\\programs\\python\\python312\\lib\\site-packages (from rich->keras>=3.5.0->tensorflow) (3.0.0)\n",
      "Requirement already satisfied: pygments<3.0.0,>=2.13.0 in c:\\users\\dell\\appdata\\local\\programs\\python\\python312\\lib\\site-packages (from rich->keras>=3.5.0->tensorflow) (2.19.1)\n",
      "Requirement already satisfied: mdurl~=0.1 in c:\\users\\dell\\appdata\\local\\programs\\python\\python312\\lib\\site-packages (from markdown-it-py>=2.2.0->rich->keras>=3.5.0->tensorflow) (0.1.2)\n"
     ]
    }
   ],
   "source": [
    "!pip install tensorflow pandas matplotlib scikit-learn"
   ]
  },
  {
   "cell_type": "code",
   "execution_count": 2,
   "id": "d47893eb-d67d-428f-ad43-21b4537edd58",
   "metadata": {},
   "outputs": [],
   "source": [
    "import os\n",
    "import pandas as pd\n",
    "import tensorflow as tf\n",
    "import numpy as np"
   ]
  },
  {
   "cell_type": "code",
   "execution_count": 3,
   "id": "4946a5b0-9f47-4dbe-a8ea-260f5e2cca72",
   "metadata": {},
   "outputs": [],
   "source": [
    "import pandas as pd\n",
    "import tensorflow as tf\n",
    "from tensorflow.keras.layers import TextVectorization"
   ]
  },
  {
   "cell_type": "code",
   "execution_count": 4,
   "id": "79c3f877-b49c-4167-a3a0-bd3ec12648f0",
   "metadata": {},
   "outputs": [],
   "source": [
    "# Load your CSVs\n",
    "train_df = pd.read_csv(r\"C:\\Users\\DELL\\Documents\\CommentToxicity\\toxic-comment-classificationdata\\train.csv\")\n",
    "test_df = pd.read_csv(r\"C:\\Users\\DELL\\Documents\\CommentToxicity\\toxic-comment-classificationdata\\test.csv\")\n",
    "test_labels = pd.read_csv(r\"C:\\Users\\DELL\\Documents\\CommentToxicity\\toxic-comment-classificationdata\\test_labels.csv\")\n"
   ]
  },
  {
   "cell_type": "code",
   "execution_count": 9,
   "id": "168b03c5-6b4e-4bf9-8034-192b8d1772c4",
   "metadata": {},
   "outputs": [],
   "source": [
    "# Inputs and labels\n",
    "X = train_df['comment_text']\n",
    "y = train_df.iloc[:, 2:]  # toxic, severe_toxic, obscene, threat, insult, identity_hate\n",
    "\n"
   ]
  },
  {
   "cell_type": "code",
   "execution_count": 10,
   "id": "b02f228c-ab50-412f-9513-4f154bab8d0e",
   "metadata": {},
   "outputs": [],
   "source": [
    "# Vectorize text\n",
    "MAX_FEATURES = 200000\n",
    "vectorizer = TextVectorization(max_tokens=MAX_FEATURES, output_sequence_length=1800, output_mode='int')\n",
    "vectorizer.adapt(X.values)"
   ]
  },
  {
   "cell_type": "code",
   "execution_count": 11,
   "id": "87cb2801-1e47-4a8f-a5a0-28746c34a16e",
   "metadata": {},
   "outputs": [],
   "source": [
    "X_vec = vectorizer(X.values)"
   ]
  },
  {
   "cell_type": "code",
   "execution_count": 16,
   "id": "bc4263ff-c891-47d8-a2fa-73dc4793c664",
   "metadata": {},
   "outputs": [],
   "source": [
    "# Create dataset\n",
    "dataset = tf.data.Dataset.from_tensor_slices((X_vec, y.values))\n",
    "dataset = dataset.shuffle(160000).batch(32).prefetch(tf.data.AUTOTUNE)\n"
   ]
  },
  {
   "cell_type": "code",
   "execution_count": 18,
   "id": "c212125c-9a33-4901-a913-2b22c2560961",
   "metadata": {},
   "outputs": [],
   "source": [
    "# Train/Validation split\n",
    "train_size = int(0.8 * len(dataset))\n",
    "train = dataset.take(train_size)\n",
    "val = dataset.skip(train_size)"
   ]
  },
  {
   "cell_type": "code",
   "execution_count": 21,
   "id": "8eedf0ed-2669-45ac-abb9-789be974af19",
   "metadata": {},
   "outputs": [],
   "source": [
    "###CREATE SEQUENTIAL MODEL\n"
   ]
  },
  {
   "cell_type": "code",
   "execution_count": 20,
   "id": "64eeb864-4e0a-4552-a84b-f3456d7f9b54",
   "metadata": {},
   "outputs": [],
   "source": [
    "from tensorflow.keras.models import Sequential\n",
    "from tensorflow.keras.layers import LSTM, Dropout, Bidirectional, Dense, Embedding"
   ]
  },
  {
   "cell_type": "code",
   "execution_count": 22,
   "id": "2d5ee2b5-20dc-4cd9-875a-e8c4c530cf75",
   "metadata": {},
   "outputs": [],
   "source": [
    "model = Sequential()\n",
    "# Create the embedding layer \n",
    "model.add(Embedding(MAX_FEATURES+1, 32))\n",
    "# Bidirectional LSTM Layer\n",
    "model.add(Bidirectional(LSTM(32, activation='tanh')))\n",
    "# Feature extractor Fully connected layers\n",
    "model.add(Dense(128, activation='relu'))\n",
    "model.add(Dense(256, activation='relu'))\n",
    "model.add(Dense(128, activation='relu'))\n",
    "# Final layer \n",
    "model.add(Dense(6, activation='sigmoid'))\n"
   ]
  },
  {
   "cell_type": "code",
   "execution_count": 23,
   "id": "88a11f61-b08c-4b76-8fa2-0dfd235255d0",
   "metadata": {},
   "outputs": [],
   "source": [
    "\n",
    "model.compile(loss='BinaryCrossentropy', optimizer='Adam')"
   ]
  },
  {
   "cell_type": "code",
   "execution_count": 24,
   "id": "b2e6c885-be3a-4d5c-b7ac-e654f46a6435",
   "metadata": {},
   "outputs": [
    {
     "data": {
      "text/html": [
       "<pre style=\"white-space:pre;overflow-x:auto;line-height:normal;font-family:Menlo,'DejaVu Sans Mono',consolas,'Courier New',monospace\"><span style=\"font-weight: bold\">Model: \"sequential\"</span>\n",
       "</pre>\n"
      ],
      "text/plain": [
       "\u001b[1mModel: \"sequential\"\u001b[0m\n"
      ]
     },
     "metadata": {},
     "output_type": "display_data"
    },
    {
     "data": {
      "text/html": [
       "<pre style=\"white-space:pre;overflow-x:auto;line-height:normal;font-family:Menlo,'DejaVu Sans Mono',consolas,'Courier New',monospace\">┏━━━━━━━━━━━━━━━━━━━━━━━━━━━━━━━━━━━━━━┳━━━━━━━━━━━━━━━━━━━━━━━━━━━━━┳━━━━━━━━━━━━━━━━━┓\n",
       "┃<span style=\"font-weight: bold\"> Layer (type)                         </span>┃<span style=\"font-weight: bold\"> Output Shape                </span>┃<span style=\"font-weight: bold\">         Param # </span>┃\n",
       "┡━━━━━━━━━━━━━━━━━━━━━━━━━━━━━━━━━━━━━━╇━━━━━━━━━━━━━━━━━━━━━━━━━━━━━╇━━━━━━━━━━━━━━━━━┩\n",
       "│ embedding (<span style=\"color: #0087ff; text-decoration-color: #0087ff\">Embedding</span>)                │ ?                           │     <span style=\"color: #00af00; text-decoration-color: #00af00\">0</span> (unbuilt) │\n",
       "├──────────────────────────────────────┼─────────────────────────────┼─────────────────┤\n",
       "│ bidirectional (<span style=\"color: #0087ff; text-decoration-color: #0087ff\">Bidirectional</span>)        │ ?                           │     <span style=\"color: #00af00; text-decoration-color: #00af00\">0</span> (unbuilt) │\n",
       "├──────────────────────────────────────┼─────────────────────────────┼─────────────────┤\n",
       "│ dense (<span style=\"color: #0087ff; text-decoration-color: #0087ff\">Dense</span>)                        │ ?                           │     <span style=\"color: #00af00; text-decoration-color: #00af00\">0</span> (unbuilt) │\n",
       "├──────────────────────────────────────┼─────────────────────────────┼─────────────────┤\n",
       "│ dense_1 (<span style=\"color: #0087ff; text-decoration-color: #0087ff\">Dense</span>)                      │ ?                           │     <span style=\"color: #00af00; text-decoration-color: #00af00\">0</span> (unbuilt) │\n",
       "├──────────────────────────────────────┼─────────────────────────────┼─────────────────┤\n",
       "│ dense_2 (<span style=\"color: #0087ff; text-decoration-color: #0087ff\">Dense</span>)                      │ ?                           │     <span style=\"color: #00af00; text-decoration-color: #00af00\">0</span> (unbuilt) │\n",
       "├──────────────────────────────────────┼─────────────────────────────┼─────────────────┤\n",
       "│ dense_3 (<span style=\"color: #0087ff; text-decoration-color: #0087ff\">Dense</span>)                      │ ?                           │     <span style=\"color: #00af00; text-decoration-color: #00af00\">0</span> (unbuilt) │\n",
       "└──────────────────────────────────────┴─────────────────────────────┴─────────────────┘\n",
       "</pre>\n"
      ],
      "text/plain": [
       "┏━━━━━━━━━━━━━━━━━━━━━━━━━━━━━━━━━━━━━━┳━━━━━━━━━━━━━━━━━━━━━━━━━━━━━┳━━━━━━━━━━━━━━━━━┓\n",
       "┃\u001b[1m \u001b[0m\u001b[1mLayer (type)                        \u001b[0m\u001b[1m \u001b[0m┃\u001b[1m \u001b[0m\u001b[1mOutput Shape               \u001b[0m\u001b[1m \u001b[0m┃\u001b[1m \u001b[0m\u001b[1m        Param #\u001b[0m\u001b[1m \u001b[0m┃\n",
       "┡━━━━━━━━━━━━━━━━━━━━━━━━━━━━━━━━━━━━━━╇━━━━━━━━━━━━━━━━━━━━━━━━━━━━━╇━━━━━━━━━━━━━━━━━┩\n",
       "│ embedding (\u001b[38;5;33mEmbedding\u001b[0m)                │ ?                           │     \u001b[38;5;34m0\u001b[0m (unbuilt) │\n",
       "├──────────────────────────────────────┼─────────────────────────────┼─────────────────┤\n",
       "│ bidirectional (\u001b[38;5;33mBidirectional\u001b[0m)        │ ?                           │     \u001b[38;5;34m0\u001b[0m (unbuilt) │\n",
       "├──────────────────────────────────────┼─────────────────────────────┼─────────────────┤\n",
       "│ dense (\u001b[38;5;33mDense\u001b[0m)                        │ ?                           │     \u001b[38;5;34m0\u001b[0m (unbuilt) │\n",
       "├──────────────────────────────────────┼─────────────────────────────┼─────────────────┤\n",
       "│ dense_1 (\u001b[38;5;33mDense\u001b[0m)                      │ ?                           │     \u001b[38;5;34m0\u001b[0m (unbuilt) │\n",
       "├──────────────────────────────────────┼─────────────────────────────┼─────────────────┤\n",
       "│ dense_2 (\u001b[38;5;33mDense\u001b[0m)                      │ ?                           │     \u001b[38;5;34m0\u001b[0m (unbuilt) │\n",
       "├──────────────────────────────────────┼─────────────────────────────┼─────────────────┤\n",
       "│ dense_3 (\u001b[38;5;33mDense\u001b[0m)                      │ ?                           │     \u001b[38;5;34m0\u001b[0m (unbuilt) │\n",
       "└──────────────────────────────────────┴─────────────────────────────┴─────────────────┘\n"
      ]
     },
     "metadata": {},
     "output_type": "display_data"
    },
    {
     "data": {
      "text/html": [
       "<pre style=\"white-space:pre;overflow-x:auto;line-height:normal;font-family:Menlo,'DejaVu Sans Mono',consolas,'Courier New',monospace\"><span style=\"font-weight: bold\"> Total params: </span><span style=\"color: #00af00; text-decoration-color: #00af00\">0</span> (0.00 B)\n",
       "</pre>\n"
      ],
      "text/plain": [
       "\u001b[1m Total params: \u001b[0m\u001b[38;5;34m0\u001b[0m (0.00 B)\n"
      ]
     },
     "metadata": {},
     "output_type": "display_data"
    },
    {
     "data": {
      "text/html": [
       "<pre style=\"white-space:pre;overflow-x:auto;line-height:normal;font-family:Menlo,'DejaVu Sans Mono',consolas,'Courier New',monospace\"><span style=\"font-weight: bold\"> Trainable params: </span><span style=\"color: #00af00; text-decoration-color: #00af00\">0</span> (0.00 B)\n",
       "</pre>\n"
      ],
      "text/plain": [
       "\u001b[1m Trainable params: \u001b[0m\u001b[38;5;34m0\u001b[0m (0.00 B)\n"
      ]
     },
     "metadata": {},
     "output_type": "display_data"
    },
    {
     "data": {
      "text/html": [
       "<pre style=\"white-space:pre;overflow-x:auto;line-height:normal;font-family:Menlo,'DejaVu Sans Mono',consolas,'Courier New',monospace\"><span style=\"font-weight: bold\"> Non-trainable params: </span><span style=\"color: #00af00; text-decoration-color: #00af00\">0</span> (0.00 B)\n",
       "</pre>\n"
      ],
      "text/plain": [
       "\u001b[1m Non-trainable params: \u001b[0m\u001b[38;5;34m0\u001b[0m (0.00 B)\n"
      ]
     },
     "metadata": {},
     "output_type": "display_data"
    }
   ],
   "source": [
    "model.summary()"
   ]
  },
  {
   "cell_type": "code",
   "execution_count": 28,
   "id": "fc679837-3063-4b2f-a4e9-81b95d70eeb1",
   "metadata": {},
   "outputs": [
    {
     "name": "stdout",
     "output_type": "stream",
     "text": [
      "\u001b[1m3989/3989\u001b[0m \u001b[32m━━━━━━━━━━━━━━━━━━━━\u001b[0m\u001b[37m\u001b[0m \u001b[1m3731s\u001b[0m 935ms/step - loss: 0.0454 - val_loss: 0.0400\n"
     ]
    }
   ],
   "source": [
    "history = model.fit(train, epochs=1, validation_data=val)\n"
   ]
  },
  {
   "cell_type": "code",
   "execution_count": 30,
   "id": "567d06b9-d4a2-483a-932c-d00263890ca5",
   "metadata": {},
   "outputs": [],
   "source": [
    "from matplotlib import pyplot as plt\n"
   ]
  },
  {
   "cell_type": "code",
   "execution_count": 35,
   "id": "3d9f4d9f-22bf-460b-b200-16a3a3b017d4",
   "metadata": {},
   "outputs": [
    {
     "data": {
      "text/plain": [
       "<Figure size 800x500 with 0 Axes>"
      ]
     },
     "metadata": {},
     "output_type": "display_data"
    },
    {
     "data": {
      "image/png": "[encoded data removed]",
      "text/plain": [
       "<Figure size 640x480 with 1 Axes>"
      ]
     },
     "metadata": {},
     "output_type": "display_data"
    }
   ],
   "source": [
    "plt.figure(figsize=(8,5))\n",
    "pd.DataFrame(history.history).plot()\n",
    "plt.show()"
   ]
  },
  {
   "cell_type": "code",
   "execution_count": 36,
   "id": "9f90f432-5b63-45ad-b711-b0a31bb72a75",
   "metadata": {},
   "outputs": [],
   "source": [
    "##MAKE PREDICTIONS"
   ]
  },
  {
   "cell_type": "code",
   "execution_count": 33,
   "id": "58937e5e-9c19-4ebf-9589-17bf1c6ed2ca",
   "metadata": {},
   "outputs": [],
   "source": [
    "input_text = vectorizer('You freaking suck! I am going to hit you.')\n"
   ]
  },
  {
   "cell_type": "code",
   "execution_count": 37,
   "id": "349b9321-b3ce-48f6-ae0a-d20fc743e6ec",
   "metadata": {},
   "outputs": [
    {
     "ename": "ValueError",
     "evalue": "Exception encountered when calling Sequential.call().\n\n\u001b[1mInvalid input shape for input Tensor(\"sequential_1/Cast:0\", shape=(32,), dtype=float32). Expected shape (None, 1800), but input has incompatible shape (32,)\u001b[0m\n\nArguments received by Sequential.call():\n  • inputs=tf.Tensor(shape=(32,), dtype=int64)\n  • training=False\n  • mask=None\n  • kwargs=<class 'inspect._empty'>",
     "output_type": "error",
     "traceback": [
      "\u001b[31m---------------------------------------------------------------------------\u001b[39m",
      "\u001b[31mValueError\u001b[39m                                Traceback (most recent call last)",
      "\u001b[36mCell\u001b[39m\u001b[36m \u001b[39m\u001b[32mIn[37]\u001b[39m\u001b[32m, line 1\u001b[39m\n\u001b[32m----> \u001b[39m\u001b[32m1\u001b[39m res = \u001b[43mmodel\u001b[49m\u001b[43m.\u001b[49m\u001b[43mpredict\u001b[49m\u001b[43m(\u001b[49m\u001b[43minput_text\u001b[49m\u001b[43m)\u001b[49m\n",
      "\u001b[36mFile \u001b[39m\u001b[32m~\\AppData\\Local\\Programs\\Python\\Python312\\Lib\\site-packages\\keras\\src\\utils\\traceback_utils.py:122\u001b[39m, in \u001b[36mfilter_traceback.<locals>.error_handler\u001b[39m\u001b[34m(*args, **kwargs)\u001b[39m\n\u001b[32m    119\u001b[39m     filtered_tb = _process_traceback_frames(e.__traceback__)\n\u001b[32m    120\u001b[39m     \u001b[38;5;66;03m# To get the full stack trace, call:\u001b[39;00m\n\u001b[32m    121\u001b[39m     \u001b[38;5;66;03m# `keras.config.disable_traceback_filtering()`\u001b[39;00m\n\u001b[32m--> \u001b[39m\u001b[32m122\u001b[39m     \u001b[38;5;28;01mraise\u001b[39;00m e.with_traceback(filtered_tb) \u001b[38;5;28;01mfrom\u001b[39;00m\u001b[38;5;250m \u001b[39m\u001b[38;5;28;01mNone\u001b[39;00m\n\u001b[32m    123\u001b[39m \u001b[38;5;28;01mfinally\u001b[39;00m:\n\u001b[32m    124\u001b[39m     \u001b[38;5;28;01mdel\u001b[39;00m filtered_tb\n",
      "\u001b[36mFile \u001b[39m\u001b[32m~\\AppData\\Local\\Programs\\Python\\Python312\\Lib\\site-packages\\keras\\src\\models\\functional.py:276\u001b[39m, in \u001b[36mFunctional._adjust_input_rank\u001b[39m\u001b[34m(self, flat_inputs)\u001b[39m\n\u001b[32m    274\u001b[39m             adjusted.append(ops.expand_dims(x, axis=-\u001b[32m1\u001b[39m))\n\u001b[32m    275\u001b[39m             \u001b[38;5;28;01mcontinue\u001b[39;00m\n\u001b[32m--> \u001b[39m\u001b[32m276\u001b[39m     \u001b[38;5;28;01mraise\u001b[39;00m \u001b[38;5;167;01mValueError\u001b[39;00m(\n\u001b[32m    277\u001b[39m         \u001b[33mf\u001b[39m\u001b[33m\"\u001b[39m\u001b[33mInvalid input shape for input \u001b[39m\u001b[38;5;132;01m{\u001b[39;00mx\u001b[38;5;132;01m}\u001b[39;00m\u001b[33m. Expected shape \u001b[39m\u001b[33m\"\u001b[39m\n\u001b[32m    278\u001b[39m         \u001b[33mf\u001b[39m\u001b[33m\"\u001b[39m\u001b[38;5;132;01m{\u001b[39;00mref_shape\u001b[38;5;132;01m}\u001b[39;00m\u001b[33m, but input has incompatible shape \u001b[39m\u001b[38;5;132;01m{\u001b[39;00mx.shape\u001b[38;5;132;01m}\u001b[39;00m\u001b[33m\"\u001b[39m\n\u001b[32m    279\u001b[39m     )\n\u001b[32m    280\u001b[39m \u001b[38;5;66;03m# Add back metadata.\u001b[39;00m\n\u001b[32m    281\u001b[39m \u001b[38;5;28;01mfor\u001b[39;00m i \u001b[38;5;129;01min\u001b[39;00m \u001b[38;5;28mrange\u001b[39m(\u001b[38;5;28mlen\u001b[39m(flat_inputs)):\n",
      "\u001b[31mValueError\u001b[39m: Exception encountered when calling Sequential.call().\n\n\u001b[1mInvalid input shape for input Tensor(\"sequential_1/Cast:0\", shape=(32,), dtype=float32). Expected shape (None, 1800), but input has incompatible shape (32,)\u001b[0m\n\nArguments received by Sequential.call():\n  • inputs=tf.Tensor(shape=(32,), dtype=int64)\n  • training=False\n  • mask=None\n  • kwargs=<class 'inspect._empty'>"
     ]
    }
   ],
   "source": [
    "res = model.predict(input_text)\n"
   ]
  },
  {
   "cell_type": "code",
   "execution_count": 38,
   "id": "0cc9810c-d130-47e6-927e-e76b766e8c2e",
   "metadata": {},
   "outputs": [
    {
     "ename": "NameError",
     "evalue": "name 'res' is not defined",
     "output_type": "error",
     "traceback": [
      "\u001b[31m---------------------------------------------------------------------------\u001b[39m",
      "\u001b[31mNameError\u001b[39m                                 Traceback (most recent call last)",
      "\u001b[36mCell\u001b[39m\u001b[36m \u001b[39m\u001b[32mIn[38]\u001b[39m\u001b[32m, line 1\u001b[39m\n\u001b[32m----> \u001b[39m\u001b[32m1\u001b[39m (\u001b[43mres\u001b[49m > \u001b[32m0.5\u001b[39m).astype(\u001b[38;5;28mint\u001b[39m)\n",
      "\u001b[31mNameError\u001b[39m: name 'res' is not defined"
     ]
    }
   ],
   "source": [
    "(res > 0.5).astype(int)\n"
   ]
  },
  {
   "cell_type": "code",
   "execution_count": 39,
   "id": "2b3299e7-e25d-457f-bd9c-b7a4af28717b",
   "metadata": {},
   "outputs": [
    {
     "ename": "NameError",
     "evalue": "name 'test' is not defined",
     "output_type": "error",
     "traceback": [
      "\u001b[31m---------------------------------------------------------------------------\u001b[39m",
      "\u001b[31mNameError\u001b[39m                                 Traceback (most recent call last)",
      "\u001b[36mCell\u001b[39m\u001b[36m \u001b[39m\u001b[32mIn[39]\u001b[39m\u001b[32m, line 1\u001b[39m\n\u001b[32m----> \u001b[39m\u001b[32m1\u001b[39m batch_X, batch_y = \u001b[43mtest\u001b[49m.as_numpy_iterator().next()\n",
      "\u001b[31mNameError\u001b[39m: name 'test' is not defined"
     ]
    }
   ],
   "source": [
    "batch_X, batch_y = test.as_numpy_iterator().next()\n"
   ]
  },
  {
   "cell_type": "code",
   "execution_count": 40,
   "id": "113ee4de-84b4-4a35-9520-5b4f9f171370",
   "metadata": {},
   "outputs": [
    {
     "ename": "NameError",
     "evalue": "name 'batch_X' is not defined",
     "output_type": "error",
     "traceback": [
      "\u001b[31m---------------------------------------------------------------------------\u001b[39m",
      "\u001b[31mNameError\u001b[39m                                 Traceback (most recent call last)",
      "\u001b[36mCell\u001b[39m\u001b[36m \u001b[39m\u001b[32mIn[40]\u001b[39m\u001b[32m, line 1\u001b[39m\n\u001b[32m----> \u001b[39m\u001b[32m1\u001b[39m (model.predict(\u001b[43mbatch_X\u001b[49m) > \u001b[32m0.5\u001b[39m).astype(\u001b[38;5;28mint\u001b[39m)\n",
      "\u001b[31mNameError\u001b[39m: name 'batch_X' is not defined"
     ]
    }
   ],
   "source": [
    "(model.predict(batch_X) > 0.5).astype(int)"
   ]
  },
  {
   "cell_type": "code",
   "execution_count": 41,
   "id": "6f5e8b4e-3d87-4629-a714-f2ae2d586584",
   "metadata": {},
   "outputs": [
    {
     "ename": "NameError",
     "evalue": "name 'res' is not defined",
     "output_type": "error",
     "traceback": [
      "\u001b[31m---------------------------------------------------------------------------\u001b[39m",
      "\u001b[31mNameError\u001b[39m                                 Traceback (most recent call last)",
      "\u001b[36mCell\u001b[39m\u001b[36m \u001b[39m\u001b[32mIn[41]\u001b[39m\u001b[32m, line 1\u001b[39m\n\u001b[32m----> \u001b[39m\u001b[32m1\u001b[39m \u001b[43mres\u001b[49m.shape\n",
      "\u001b[31mNameError\u001b[39m: name 'res' is not defined"
     ]
    }
   ],
   "source": [
    "res.shape\n"
   ]
  },
  {
   "cell_type": "code",
   "execution_count": 42,
   "id": "172fd4d5-003a-4335-aa63-0f68dd5eaad4",
   "metadata": {},
   "outputs": [],
   "source": [
    "###EVALUATE MODEL"
   ]
  },
  {
   "cell_type": "code",
   "execution_count": 43,
   "id": "24ca3b3a-b737-46b4-8ee1-2920b3c41016",
   "metadata": {},
   "outputs": [],
   "source": [
    "from tensorflow.keras.metrics import Precision, Recall, CategoricalAccuracy\n",
    "\n"
   ]
  },
  {
   "cell_type": "code",
   "execution_count": 44,
   "id": "1427f7c4-68d0-46e1-b0e9-7bf7d2a0f67e",
   "metadata": {},
   "outputs": [],
   "source": [
    "pre = Precision()\n",
    "re = Recall()\n",
    "acc = CategoricalAccuracy()"
   ]
  },
  {
   "cell_type": "raw",
   "id": "abfc246d-2fc0-4c71-821b-0e94a3f2904b",
   "metadata": {},
   "source": []
  },
  {
   "cell_type": "code",
   "execution_count": 45,
   "id": "1b9ba7f2-c80f-45cf-8513-cafd9d9b761e",
   "metadata": {},
   "outputs": [
    {
     "ename": "NameError",
     "evalue": "name 'test' is not defined",
     "output_type": "error",
     "traceback": [
      "\u001b[31m---------------------------------------------------------------------------\u001b[39m",
      "\u001b[31mNameError\u001b[39m                                 Traceback (most recent call last)",
      "\u001b[36mCell\u001b[39m\u001b[36m \u001b[39m\u001b[32mIn[45]\u001b[39m\u001b[32m, line 1\u001b[39m\n\u001b[32m----> \u001b[39m\u001b[32m1\u001b[39m \u001b[38;5;28;01mfor\u001b[39;00m batch \u001b[38;5;129;01min\u001b[39;00m \u001b[43mtest\u001b[49m.as_numpy_iterator(): \n\u001b[32m      2\u001b[39m     \u001b[38;5;66;03m# Unpack the batch \u001b[39;00m\n\u001b[32m      3\u001b[39m     X_true, y_true = batch\n\u001b[32m      4\u001b[39m     \u001b[38;5;66;03m# Make a prediction \u001b[39;00m\n",
      "\u001b[31mNameError\u001b[39m: name 'test' is not defined"
     ]
    }
   ],
   "source": [
    "for batch in test.as_numpy_iterator(): \n",
    "    # Unpack the batch \n",
    "    X_true, y_true = batch\n",
    "    # Make a prediction \n",
    "    yhat = model.predict(X_true)\n",
    "    \n",
    "    # Flatten the predictions\n",
    "    y_true = y_true.flatten()\n",
    "    yhat = yhat.flatten()\n",
    "    \n",
    "    pre.update_state(y_true, yhat)\n",
    "    re.update_state(y_true, yhat)\n",
    "    acc.update_state(y_true, yhat)\n"
   ]
  },
  {
   "cell_type": "code",
   "execution_count": 46,
   "id": "9ba0d39d-fd57-4a2e-a58d-3506a8a5add3",
   "metadata": {},
   "outputs": [
    {
     "name": "stdout",
     "output_type": "stream",
     "text": [
      "Precision: 0.0, Recall:0.0, Accuracy:0.0\n"
     ]
    }
   ],
   "source": [
    "print(f'Precision: {pre.result().numpy()}, Recall:{re.result().numpy()}, Accuracy:{acc.result().numpy()}')"
   ]
  },
  {
   "cell_type": "code",
   "execution_count": 47,
   "id": "601fc6fd-deed-4b57-9e73-6340bf2bde7d",
   "metadata": {},
   "outputs": [],
   "source": [
    "### Test and Gradio"
   ]
  },
  {
   "cell_type": "code",
   "execution_count": 48,
   "id": "f7233bab-7d8c-4a6a-9a53-f7db8bde7258",
   "metadata": {},
   "outputs": [
    {
     "name": "stdout",
     "output_type": "stream",
     "text": [
      "Collecting gradio\n",
      "  Downloading gradio-5.42.0-py3-none-any.whl.metadata (16 kB)\n",
      "Requirement already satisfied: jinja2 in c:\\users\\dell\\appdata\\local\\programs\\python\\python312\\lib\\site-packages (3.1.6)\n",
      "Collecting aiofiles<25.0,>=22.0 (from gradio)\n",
      "  Downloading aiofiles-24.1.0-py3-none-any.whl.metadata (10 kB)\n",
      "Requirement already satisfied: anyio<5.0,>=3.0 in c:\\users\\dell\\appdata\\local\\programs\\python\\python312\\lib\\site-packages (from gradio) (4.9.0)\n",
      "Collecting brotli>=1.1.0 (from gradio)\n",
      "  Downloading Brotli-1.1.0-cp312-cp312-win_amd64.whl.metadata (5.6 kB)\n",
      "Collecting fastapi<1.0,>=0.115.2 (from gradio)\n",
      "  Downloading fastapi-0.116.1-py3-none-any.whl.metadata (28 kB)\n",
      "Collecting ffmpy (from gradio)\n",
      "  Downloading ffmpy-0.6.1-py3-none-any.whl.metadata (2.9 kB)\n",
      "Collecting gradio-client==1.11.1 (from gradio)\n",
      "  Downloading gradio_client-1.11.1-py3-none-any.whl.metadata (7.1 kB)\n",
      "Collecting groovy~=0.1 (from gradio)\n",
      "  Downloading groovy-0.1.2-py3-none-any.whl.metadata (6.1 kB)\n",
      "Requirement already satisfied: httpx<1.0,>=0.24.1 in c:\\users\\dell\\appdata\\local\\programs\\python\\python312\\lib\\site-packages (from gradio) (0.28.1)\n",
      "Requirement already satisfied: huggingface-hub<1.0,>=0.33.5 in c:\\users\\dell\\appdata\\local\\programs\\python\\python312\\lib\\site-packages (from gradio) (0.34.4)\n",
      "Requirement already satisfied: markupsafe<4.0,>=2.0 in c:\\users\\dell\\appdata\\local\\programs\\python\\python312\\lib\\site-packages (from gradio) (3.0.2)\n",
      "Requirement already satisfied: numpy<3.0,>=1.0 in c:\\users\\dell\\appdata\\local\\programs\\python\\python312\\lib\\site-packages (from gradio) (1.26.4)\n",
      "Collecting orjson~=3.0 (from gradio)\n",
      "  Downloading orjson-3.11.1-cp312-cp312-win_amd64.whl.metadata (43 kB)\n",
      "Requirement already satisfied: packaging in c:\\users\\dell\\appdata\\local\\programs\\python\\python312\\lib\\site-packages (from gradio) (24.1)\n",
      "Requirement already satisfied: pandas<3.0,>=1.0 in c:\\users\\dell\\appdata\\local\\programs\\python\\python312\\lib\\site-packages (from gradio) (2.2.3)\n",
      "Requirement already satisfied: pillow<12.0,>=8.0 in c:\\users\\dell\\appdata\\local\\programs\\python\\python312\\lib\\site-packages (from gradio) (10.3.0)\n",
      "Collecting pydantic<2.12,>=2.0 (from gradio)\n",
      "  Downloading pydantic-2.11.7-py3-none-any.whl.metadata (67 kB)\n",
      "Collecting pydub (from gradio)\n",
      "  Downloading pydub-0.25.1-py2.py3-none-any.whl.metadata (1.4 kB)\n",
      "Collecting python-multipart>=0.0.18 (from gradio)\n",
      "  Downloading python_multipart-0.0.20-py3-none-any.whl.metadata (1.8 kB)\n",
      "Requirement already satisfied: pyyaml<7.0,>=5.0 in c:\\users\\dell\\appdata\\local\\programs\\python\\python312\\lib\\site-packages (from gradio) (6.0.2)\n",
      "Collecting ruff>=0.9.3 (from gradio)\n",
      "  Downloading ruff-0.12.8-py3-none-win_amd64.whl.metadata (26 kB)\n",
      "Collecting safehttpx<0.2.0,>=0.1.6 (from gradio)\n",
      "  Downloading safehttpx-0.1.6-py3-none-any.whl.metadata (4.2 kB)\n",
      "Collecting semantic-version~=2.0 (from gradio)\n",
      "  Downloading semantic_version-2.10.0-py2.py3-none-any.whl.metadata (9.7 kB)\n",
      "Collecting starlette<1.0,>=0.40.0 (from gradio)\n",
      "  Downloading starlette-0.47.2-py3-none-any.whl.metadata (6.2 kB)\n",
      "Collecting tomlkit<0.14.0,>=0.12.0 (from gradio)\n",
      "  Downloading tomlkit-0.13.3-py3-none-any.whl.metadata (2.8 kB)\n",
      "Collecting typer<1.0,>=0.12 (from gradio)\n",
      "  Downloading typer-0.16.0-py3-none-any.whl.metadata (15 kB)\n",
      "Requirement already satisfied: typing-extensions~=4.0 in c:\\users\\dell\\appdata\\local\\programs\\python\\python312\\lib\\site-packages (from gradio) (4.13.2)\n",
      "Collecting uvicorn>=0.14.0 (from gradio)\n",
      "  Downloading uvicorn-0.35.0-py3-none-any.whl.metadata (6.5 kB)\n",
      "Requirement already satisfied: fsspec in c:\\users\\dell\\appdata\\local\\programs\\python\\python312\\lib\\site-packages (from gradio-client==1.11.1->gradio) (2025.7.0)\n",
      "Collecting websockets<16.0,>=10.0 (from gradio-client==1.11.1->gradio)\n",
      "  Downloading websockets-15.0.1-cp312-cp312-win_amd64.whl.metadata (7.0 kB)\n",
      "Requirement already satisfied: idna>=2.8 in c:\\users\\dell\\appdata\\local\\programs\\python\\python312\\lib\\site-packages (from anyio<5.0,>=3.0->gradio) (3.10)\n",
      "Requirement already satisfied: sniffio>=1.1 in c:\\users\\dell\\appdata\\local\\programs\\python\\python312\\lib\\site-packages (from anyio<5.0,>=3.0->gradio) (1.3.1)\n",
      "Requirement already satisfied: certifi in c:\\users\\dell\\appdata\\local\\programs\\python\\python312\\lib\\site-packages (from httpx<1.0,>=0.24.1->gradio) (2025.4.26)\n",
      "Requirement already satisfied: httpcore==1.* in c:\\users\\dell\\appdata\\local\\programs\\python\\python312\\lib\\site-packages (from httpx<1.0,>=0.24.1->gradio) (1.0.9)\n",
      "Requirement already satisfied: h11>=0.16 in c:\\users\\dell\\appdata\\local\\programs\\python\\python312\\lib\\site-packages (from httpcore==1.*->httpx<1.0,>=0.24.1->gradio) (0.16.0)\n",
      "Requirement already satisfied: filelock in c:\\users\\dell\\appdata\\local\\programs\\python\\python312\\lib\\site-packages (from huggingface-hub<1.0,>=0.33.5->gradio) (3.18.0)\n",
      "Requirement already satisfied: requests in c:\\users\\dell\\appdata\\local\\programs\\python\\python312\\lib\\site-packages (from huggingface-hub<1.0,>=0.33.5->gradio) (2.32.3)\n",
      "Requirement already satisfied: tqdm>=4.42.1 in c:\\users\\dell\\appdata\\local\\programs\\python\\python312\\lib\\site-packages (from huggingface-hub<1.0,>=0.33.5->gradio) (4.67.1)\n",
      "Requirement already satisfied: python-dateutil>=2.8.2 in c:\\users\\dell\\appdata\\local\\programs\\python\\python312\\lib\\site-packages (from pandas<3.0,>=1.0->gradio) (2.9.0.post0)\n",
      "Requirement already satisfied: pytz>=2020.1 in c:\\users\\dell\\appdata\\local\\programs\\python\\python312\\lib\\site-packages (from pandas<3.0,>=1.0->gradio) (2025.2)\n",
      "Requirement already satisfied: tzdata>=2022.7 in c:\\users\\dell\\appdata\\local\\programs\\python\\python312\\lib\\site-packages (from pandas<3.0,>=1.0->gradio) (2025.2)\n",
      "Collecting annotated-types>=0.6.0 (from pydantic<2.12,>=2.0->gradio)\n",
      "  Downloading annotated_types-0.7.0-py3-none-any.whl.metadata (15 kB)\n",
      "Collecting pydantic-core==2.33.2 (from pydantic<2.12,>=2.0->gradio)\n",
      "  Downloading pydantic_core-2.33.2-cp312-cp312-win_amd64.whl.metadata (6.9 kB)\n",
      "Collecting typing-inspection>=0.4.0 (from pydantic<2.12,>=2.0->gradio)\n",
      "  Downloading typing_inspection-0.4.1-py3-none-any.whl.metadata (2.6 kB)\n",
      "Requirement already satisfied: click>=8.0.0 in c:\\users\\dell\\appdata\\local\\programs\\python\\python312\\lib\\site-packages (from typer<1.0,>=0.12->gradio) (8.1.8)\n",
      "Collecting shellingham>=1.3.0 (from typer<1.0,>=0.12->gradio)\n",
      "  Downloading shellingham-1.5.4-py2.py3-none-any.whl.metadata (3.5 kB)\n",
      "Requirement already satisfied: rich>=10.11.0 in c:\\users\\dell\\appdata\\local\\programs\\python\\python312\\lib\\site-packages (from typer<1.0,>=0.12->gradio) (14.1.0)\n",
      "Requirement already satisfied: colorama in c:\\users\\dell\\appdata\\local\\programs\\python\\python312\\lib\\site-packages (from click>=8.0.0->typer<1.0,>=0.12->gradio) (0.4.6)\n",
      "Requirement already satisfied: six>=1.5 in c:\\users\\dell\\appdata\\local\\programs\\python\\python312\\lib\\site-packages (from python-dateutil>=2.8.2->pandas<3.0,>=1.0->gradio) (1.17.0)\n",
      "Requirement already satisfied: markdown-it-py>=2.2.0 in c:\\users\\dell\\appdata\\local\\programs\\python\\python312\\lib\\site-packages (from rich>=10.11.0->typer<1.0,>=0.12->gradio) (3.0.0)\n",
      "Requirement already satisfied: pygments<3.0.0,>=2.13.0 in c:\\users\\dell\\appdata\\local\\programs\\python\\python312\\lib\\site-packages (from rich>=10.11.0->typer<1.0,>=0.12->gradio) (2.19.1)\n",
      "Requirement already satisfied: mdurl~=0.1 in c:\\users\\dell\\appdata\\local\\programs\\python\\python312\\lib\\site-packages (from markdown-it-py>=2.2.0->rich>=10.11.0->typer<1.0,>=0.12->gradio) (0.1.2)\n",
      "Requirement already satisfied: charset-normalizer<4,>=2 in c:\\users\\dell\\appdata\\local\\programs\\python\\python312\\lib\\site-packages (from requests->huggingface-hub<1.0,>=0.33.5->gradio) (3.4.1)\n",
      "Requirement already satisfied: urllib3<3,>=1.21.1 in c:\\users\\dell\\appdata\\local\\programs\\python\\python312\\lib\\site-packages (from requests->huggingface-hub<1.0,>=0.33.5->gradio) (2.4.0)\n",
      "Downloading gradio-5.42.0-py3-none-any.whl (59.7 MB)\n",
      "   ---------------------------------------- 0.0/59.7 MB ? eta -:--:--\n",
      "    --------------------------------------- 1.0/59.7 MB 6.3 MB/s eta 0:00:10\n",
      "   - -------------------------------------- 1.6/59.7 MB 4.7 MB/s eta 0:00:13\n",
      "   - -------------------------------------- 2.6/59.7 MB 4.1 MB/s eta 0:00:14\n",
      "   -- ------------------------------------- 3.4/59.7 MB 4.0 MB/s eta 0:00:15\n",
      "   -- ------------------------------------- 3.9/59.7 MB 3.8 MB/s eta 0:00:15\n",
      "   --- ------------------------------------ 4.7/59.7 MB 3.7 MB/s eta 0:00:15\n",
      "   --- ------------------------------------ 5.5/59.7 MB 3.7 MB/s eta 0:00:15\n",
      "   ---- ----------------------------------- 6.3/59.7 MB 3.7 MB/s eta 0:00:15\n",
      "   ---- ----------------------------------- 7.1/59.7 MB 3.7 MB/s eta 0:00:15\n",
      "   ----- ---------------------------------- 7.9/59.7 MB 3.7 MB/s eta 0:00:14\n",
      "   ----- ---------------------------------- 8.4/59.7 MB 3.6 MB/s eta 0:00:15\n",
      "   ----- ---------------------------------- 8.9/59.7 MB 3.5 MB/s eta 0:00:15\n",
      "   ------ --------------------------------- 9.7/59.7 MB 3.5 MB/s eta 0:00:15\n",
      "   ------ --------------------------------- 10.2/59.7 MB 3.5 MB/s eta 0:00:15\n",
      "   ------- -------------------------------- 10.7/59.7 MB 3.4 MB/s eta 0:00:15\n",
      "   ------- -------------------------------- 11.5/59.7 MB 3.4 MB/s eta 0:00:15\n",
      "   -------- ------------------------------- 12.1/59.7 MB 3.4 MB/s eta 0:00:15\n",
      "   -------- ------------------------------- 12.8/59.7 MB 3.4 MB/s eta 0:00:14\n",
      "   --------- ------------------------------ 13.6/59.7 MB 3.4 MB/s eta 0:00:14\n",
      "   --------- ------------------------------ 14.4/59.7 MB 3.4 MB/s eta 0:00:14\n",
      "   ---------- ----------------------------- 14.9/59.7 MB 3.4 MB/s eta 0:00:14\n",
      "   ---------- ----------------------------- 15.2/59.7 MB 3.4 MB/s eta 0:00:14\n",
      "   ---------- ----------------------------- 15.5/59.7 MB 3.3 MB/s eta 0:00:14\n",
      "   ---------- ----------------------------- 15.7/59.7 MB 3.2 MB/s eta 0:00:14\n",
      "   ---------- ----------------------------- 16.3/59.7 MB 3.1 MB/s eta 0:00:15\n",
      "   ----------- ---------------------------- 16.8/59.7 MB 3.1 MB/s eta 0:00:15\n",
      "   ----------- ---------------------------- 17.3/59.7 MB 3.0 MB/s eta 0:00:14\n",
      "   ----------- ---------------------------- 17.6/59.7 MB 3.0 MB/s eta 0:00:15\n",
      "   ----------- ---------------------------- 17.8/59.7 MB 3.0 MB/s eta 0:00:15\n",
      "   ------------ --------------------------- 18.1/59.7 MB 2.9 MB/s eta 0:00:15\n",
      "   ------------ --------------------------- 18.4/59.7 MB 2.8 MB/s eta 0:00:15\n",
      "   ------------ --------------------------- 18.9/59.7 MB 2.8 MB/s eta 0:00:15\n",
      "   ------------- -------------------------- 19.4/59.7 MB 2.8 MB/s eta 0:00:15\n",
      "   ------------- -------------------------- 19.9/59.7 MB 2.8 MB/s eta 0:00:15\n",
      "   ------------- -------------------------- 20.7/59.7 MB 2.8 MB/s eta 0:00:15\n",
      "   -------------- ------------------------- 21.5/59.7 MB 2.8 MB/s eta 0:00:14\n",
      "   -------------- ------------------------- 22.0/59.7 MB 2.8 MB/s eta 0:00:14\n",
      "   --------------- ------------------------ 22.5/59.7 MB 2.8 MB/s eta 0:00:14\n",
      "   --------------- ------------------------ 23.3/59.7 MB 2.8 MB/s eta 0:00:13\n",
      "   ---------------- ----------------------- 24.1/59.7 MB 2.8 MB/s eta 0:00:13\n",
      "   ---------------- ----------------------- 24.9/59.7 MB 2.9 MB/s eta 0:00:13\n",
      "   ----------------- ---------------------- 26.0/59.7 MB 2.9 MB/s eta 0:00:12\n",
      "   ----------------- ---------------------- 26.5/59.7 MB 2.9 MB/s eta 0:00:12\n",
      "   ------------------ --------------------- 27.0/59.7 MB 2.9 MB/s eta 0:00:12\n",
      "   ------------------ --------------------- 27.8/59.7 MB 2.9 MB/s eta 0:00:11\n",
      "   ------------------ --------------------- 28.3/59.7 MB 2.9 MB/s eta 0:00:11\n",
      "   ------------------- -------------------- 29.1/59.7 MB 2.9 MB/s eta 0:00:11\n",
      "   -------------------- ------------------- 29.9/59.7 MB 2.9 MB/s eta 0:00:11\n",
      "   -------------------- ------------------- 30.7/59.7 MB 3.0 MB/s eta 0:00:10\n",
      "   --------------------- ------------------ 31.5/59.7 MB 3.0 MB/s eta 0:00:10\n",
      "   --------------------- ------------------ 32.2/59.7 MB 3.0 MB/s eta 0:00:10\n",
      "   ---------------------- ----------------- 33.0/59.7 MB 3.0 MB/s eta 0:00:09\n",
      "   ---------------------- ----------------- 33.8/59.7 MB 3.0 MB/s eta 0:00:09\n",
      "   ----------------------- ---------------- 34.6/59.7 MB 3.0 MB/s eta 0:00:09\n",
      "   ----------------------- ---------------- 35.4/59.7 MB 3.0 MB/s eta 0:00:08\n",
      "   ------------------------ --------------- 36.2/59.7 MB 3.0 MB/s eta 0:00:08\n",
      "   ------------------------ --------------- 37.0/59.7 MB 3.1 MB/s eta 0:00:08\n",
      "   ------------------------- -------------- 37.5/59.7 MB 3.1 MB/s eta 0:00:08\n",
      "   ------------------------- -------------- 38.3/59.7 MB 3.1 MB/s eta 0:00:07\n",
      "   -------------------------- ------------- 38.8/59.7 MB 3.1 MB/s eta 0:00:07\n",
      "   -------------------------- ------------- 39.3/59.7 MB 3.1 MB/s eta 0:00:07\n",
      "   -------------------------- ------------- 40.1/59.7 MB 3.1 MB/s eta 0:00:07\n",
      "   --------------------------- ------------ 40.6/59.7 MB 3.1 MB/s eta 0:00:07\n",
      "   --------------------------- ------------ 41.4/59.7 MB 3.1 MB/s eta 0:00:06\n",
      "   ---------------------------- ----------- 42.2/59.7 MB 3.1 MB/s eta 0:00:06\n",
      "   ---------------------------- ----------- 43.0/59.7 MB 3.1 MB/s eta 0:00:06\n",
      "   ----------------------------- ---------- 44.0/59.7 MB 3.1 MB/s eta 0:00:06\n",
      "   ----------------------------- ---------- 44.6/59.7 MB 3.1 MB/s eta 0:00:05\n",
      "   ------------------------------ --------- 45.1/59.7 MB 3.1 MB/s eta 0:00:05\n",
      "   ------------------------------ --------- 45.6/59.7 MB 3.1 MB/s eta 0:00:05\n",
      "   ------------------------------ --------- 46.1/59.7 MB 3.1 MB/s eta 0:00:05\n",
      "   ------------------------------- -------- 46.9/59.7 MB 3.1 MB/s eta 0:00:05\n",
      "   ------------------------------- -------- 47.7/59.7 MB 3.1 MB/s eta 0:00:04\n",
      "   -------------------------------- ------- 48.8/59.7 MB 3.1 MB/s eta 0:00:04\n",
      "   --------------------------------- ------ 49.5/59.7 MB 3.1 MB/s eta 0:00:04\n",
      "   --------------------------------- ------ 50.3/59.7 MB 3.1 MB/s eta 0:00:03\n",
      "   ---------------------------------- ----- 50.9/59.7 MB 3.1 MB/s eta 0:00:03\n",
      "   ---------------------------------- ----- 51.4/59.7 MB 3.1 MB/s eta 0:00:03\n",
      "   ---------------------------------- ----- 51.9/59.7 MB 3.1 MB/s eta 0:00:03\n",
      "   ----------------------------------- ---- 52.7/59.7 MB 3.1 MB/s eta 0:00:03\n",
      "   ----------------------------------- ---- 53.5/59.7 MB 3.1 MB/s eta 0:00:02\n",
      "   ------------------------------------ --- 54.0/59.7 MB 3.1 MB/s eta 0:00:02\n",
      "   ------------------------------------ --- 54.8/59.7 MB 3.1 MB/s eta 0:00:02\n",
      "   ------------------------------------- -- 55.6/59.7 MB 3.1 MB/s eta 0:00:02\n",
      "   ------------------------------------- -- 56.4/59.7 MB 3.1 MB/s eta 0:00:02\n",
      "   -------------------------------------- - 57.1/59.7 MB 3.1 MB/s eta 0:00:01\n",
      "   -------------------------------------- - 57.7/59.7 MB 3.1 MB/s eta 0:00:01\n",
      "   ---------------------------------------  58.2/59.7 MB 3.1 MB/s eta 0:00:01\n",
      "   ---------------------------------------  59.0/59.7 MB 3.1 MB/s eta 0:00:01\n",
      "   ---------------------------------------  59.5/59.7 MB 3.1 MB/s eta 0:00:01\n",
      "   ---------------------------------------  59.5/59.7 MB 3.1 MB/s eta 0:00:01\n",
      "   ---------------------------------------- 59.7/59.7 MB 3.1 MB/s  0:00:19\n",
      "Downloading gradio_client-1.11.1-py3-none-any.whl (324 kB)\n",
      "Downloading aiofiles-24.1.0-py3-none-any.whl (15 kB)\n",
      "Downloading fastapi-0.116.1-py3-none-any.whl (95 kB)\n",
      "Downloading groovy-0.1.2-py3-none-any.whl (14 kB)\n",
      "Downloading orjson-3.11.1-cp312-cp312-win_amd64.whl (131 kB)\n",
      "Downloading pydantic-2.11.7-py3-none-any.whl (444 kB)\n",
      "Downloading pydantic_core-2.33.2-cp312-cp312-win_amd64.whl (2.0 MB)\n",
      "   ---------------------------------------- 0.0/2.0 MB ? eta -:--:--\n",
      "   ---------- ----------------------------- 0.5/2.0 MB 3.4 MB/s eta 0:00:01\n",
      "   -------------------------- ------------- 1.3/2.0 MB 3.5 MB/s eta 0:00:01\n",
      "   ---------------------------------------- 2.0/2.0 MB 3.5 MB/s  0:00:00\n",
      "Downloading safehttpx-0.1.6-py3-none-any.whl (8.7 kB)\n",
      "Downloading semantic_version-2.10.0-py2.py3-none-any.whl (15 kB)\n",
      "Downloading starlette-0.47.2-py3-none-any.whl (72 kB)\n",
      "Downloading tomlkit-0.13.3-py3-none-any.whl (38 kB)\n",
      "Downloading typer-0.16.0-py3-none-any.whl (46 kB)\n",
      "Downloading websockets-15.0.1-cp312-cp312-win_amd64.whl (176 kB)\n",
      "Downloading annotated_types-0.7.0-py3-none-any.whl (13 kB)\n",
      "Downloading Brotli-1.1.0-cp312-cp312-win_amd64.whl (357 kB)\n",
      "Downloading python_multipart-0.0.20-py3-none-any.whl (24 kB)\n",
      "Downloading ruff-0.12.8-py3-none-win_amd64.whl (12.7 MB)\n",
      "   ---------------------------------------- 0.0/12.7 MB ? eta -:--:--\n",
      "   -- ------------------------------------- 0.8/12.7 MB 4.8 MB/s eta 0:00:03\n",
      "   ---- ----------------------------------- 1.6/12.7 MB 4.7 MB/s eta 0:00:03\n",
      "   ------- -------------------------------- 2.4/12.7 MB 4.1 MB/s eta 0:00:03\n",
      "   -------- ------------------------------- 2.6/12.7 MB 3.3 MB/s eta 0:00:04\n",
      "   ----------- ---------------------------- 3.7/12.7 MB 3.5 MB/s eta 0:00:03\n",
      "   ------------- -------------------------- 4.5/12.7 MB 3.6 MB/s eta 0:00:03\n",
      "   ---------------- ----------------------- 5.2/12.7 MB 3.6 MB/s eta 0:00:03\n",
      "   ------------------ --------------------- 5.8/12.7 MB 3.5 MB/s eta 0:00:02\n",
      "   ------------------- -------------------- 6.3/12.7 MB 3.4 MB/s eta 0:00:02\n",
      "   ---------------------- ----------------- 7.1/12.7 MB 3.3 MB/s eta 0:00:02\n",
      "   ----------------------- ---------------- 7.6/12.7 MB 3.3 MB/s eta 0:00:02\n",
      "   -------------------------- ------------- 8.4/12.7 MB 3.3 MB/s eta 0:00:02\n",
      "   ---------------------------- ----------- 9.2/12.7 MB 3.3 MB/s eta 0:00:02\n",
      "   ------------------------------- -------- 10.0/12.7 MB 3.4 MB/s eta 0:00:01\n",
      "   --------------------------------- ------ 10.7/12.7 MB 3.4 MB/s eta 0:00:01\n",
      "   ------------------------------------ --- 11.5/12.7 MB 3.4 MB/s eta 0:00:01\n",
      "   ------------------------------------- -- 11.8/12.7 MB 3.4 MB/s eta 0:00:01\n",
      "   ---------------------------------------  12.6/12.7 MB 3.3 MB/s eta 0:00:01\n",
      "   ---------------------------------------- 12.7/12.7 MB 3.2 MB/s  0:00:03\n",
      "Downloading shellingham-1.5.4-py2.py3-none-any.whl (9.8 kB)\n",
      "Downloading typing_inspection-0.4.1-py3-none-any.whl (14 kB)\n",
      "Downloading uvicorn-0.35.0-py3-none-any.whl (66 kB)\n",
      "Downloading ffmpy-0.6.1-py3-none-any.whl (5.5 kB)\n",
      "Downloading pydub-0.25.1-py2.py3-none-any.whl (32 kB)\n",
      "Installing collected packages: pydub, brotli, websockets, typing-inspection, tomlkit, shellingham, semantic-version, ruff, python-multipart, pydantic-core, orjson, groovy, ffmpy, annotated-types, aiofiles, uvicorn, starlette, pydantic, typer, safehttpx, gradio-client, fastapi, gradio\n",
      "\n",
      "   ----------------------------------------  0/23 [pydub]\n",
      "   --- ------------------------------------  2/23 [websockets]\n",
      "   --- ------------------------------------  2/23 [websockets]\n",
      "   --- ------------------------------------  2/23 [websockets]\n",
      "   --- ------------------------------------  2/23 [websockets]\n",
      "   --- ------------------------------------  2/23 [websockets]\n",
      "   --- ------------------------------------  2/23 [websockets]\n",
      "   --- ------------------------------------  2/23 [websockets]\n",
      "   --- ------------------------------------  2/23 [websockets]\n",
      "   --- ------------------------------------  2/23 [websockets]\n",
      "   --- ------------------------------------  2/23 [websockets]\n",
      "   --- ------------------------------------  2/23 [websockets]\n",
      "   --- ------------------------------------  2/23 [websockets]\n",
      "   ----- ----------------------------------  3/23 [typing-inspection]\n",
      "   ------ ---------------------------------  4/23 [tomlkit]\n",
      "   ------ ---------------------------------  4/23 [tomlkit]\n",
      "   -------- -------------------------------  5/23 [shellingham]\n",
      "   ---------- -----------------------------  6/23 [semantic-version]\n",
      "   ------------ ---------------------------  7/23 [ruff]\n",
      "   ------------ ---------------------------  7/23 [ruff]\n",
      "   ------------ ---------------------------  7/23 [ruff]\n",
      "   ------------ ---------------------------  7/23 [ruff]\n",
      "   ------------ ---------------------------  7/23 [ruff]\n",
      "   ------------ ---------------------------  7/23 [ruff]\n",
      "   ------------ ---------------------------  7/23 [ruff]\n",
      "   ------------ ---------------------------  7/23 [ruff]\n",
      "   ------------- --------------------------  8/23 [python-multipart]\n",
      "   ----------------- ---------------------- 10/23 [orjson]\n",
      "   -------------------- ------------------- 12/23 [ffmpy]\n",
      "   ------------------------ --------------- 14/23 [aiofiles]\n",
      "   -------------------------- ------------- 15/23 [uvicorn]\n",
      "   -------------------------- ------------- 15/23 [uvicorn]\n",
      "   -------------------------- ------------- 15/23 [uvicorn]\n",
      "   -------------------------- ------------- 15/23 [uvicorn]\n",
      "   -------------------------- ------------- 15/23 [uvicorn]\n",
      "   --------------------------- ------------ 16/23 [starlette]\n",
      "   --------------------------- ------------ 16/23 [starlette]\n",
      "   --------------------------- ------------ 16/23 [starlette]\n",
      "   --------------------------- ------------ 16/23 [starlette]\n",
      "   --------------------------- ------------ 16/23 [starlette]\n",
      "   --------------------------- ------------ 16/23 [starlette]\n",
      "   ----------------------------- ---------- 17/23 [pydantic]\n",
      "   ----------------------------- ---------- 17/23 [pydantic]\n",
      "   ----------------------------- ---------- 17/23 [pydantic]\n",
      "   ----------------------------- ---------- 17/23 [pydantic]\n",
      "   ----------------------------- ---------- 17/23 [pydantic]\n",
      "   ----------------------------- ---------- 17/23 [pydantic]\n",
      "   ----------------------------- ---------- 17/23 [pydantic]\n",
      "   ----------------------------- ---------- 17/23 [pydantic]\n",
      "   ----------------------------- ---------- 17/23 [pydantic]\n",
      "   ----------------------------- ---------- 17/23 [pydantic]\n",
      "   ----------------------------- ---------- 17/23 [pydantic]\n",
      "   ----------------------------- ---------- 17/23 [pydantic]\n",
      "   ----------------------------- ---------- 17/23 [pydantic]\n",
      "   ----------------------------- ---------- 17/23 [pydantic]\n",
      "   ------------------------------- -------- 18/23 [typer]\n",
      "   ------------------------------- -------- 18/23 [typer]\n",
      "   ------------------------------- -------- 18/23 [typer]\n",
      "   ---------------------------------- ----- 20/23 [gradio-client]\n",
      "   ---------------------------------- ----- 20/23 [gradio-client]\n",
      "   ------------------------------------ --- 21/23 [fastapi]\n",
      "   ------------------------------------ --- 21/23 [fastapi]\n",
      "   ------------------------------------ --- 21/23 [fastapi]\n",
      "   ------------------------------------ --- 21/23 [fastapi]\n",
      "   ------------------------------------ --- 21/23 [fastapi]\n",
      "   ------------------------------------ --- 21/23 [fastapi]\n",
      "   ------------------------------------ --- 21/23 [fastapi]\n",
      "   ------------------------------------ --- 21/23 [fastapi]\n",
      "   -------------------------------------- - 22/23 [gradio]\n",
      "   -------------------------------------- - 22/23 [gradio]\n",
      "   -------------------------------------- - 22/23 [gradio]\n",
      "   -------------------------------------- - 22/23 [gradio]\n",
      "   -------------------------------------- - 22/23 [gradio]\n",
      "   -------------------------------------- - 22/23 [gradio]\n",
      "   -------------------------------------- - 22/23 [gradio]\n",
      "   -------------------------------------- - 22/23 [gradio]\n",
      "   -------------------------------------- - 22/23 [gradio]\n",
      "   -------------------------------------- - 22/23 [gradio]\n",
      "   -------------------------------------- - 22/23 [gradio]\n",
      "   -------------------------------------- - 22/23 [gradio]\n",
      "   -------------------------------------- - 22/23 [gradio]\n",
      "   -------------------------------------- - 22/23 [gradio]\n",
      "   -------------------------------------- - 22/23 [gradio]\n",
      "   -------------------------------------- - 22/23 [gradio]\n",
      "   -------------------------------------- - 22/23 [gradio]\n",
      "   -------------------------------------- - 22/23 [gradio]\n",
      "   -------------------------------------- - 22/23 [gradio]\n",
      "   -------------------------------------- - 22/23 [gradio]\n",
      "   -------------------------------------- - 22/23 [gradio]\n",
      "   -------------------------------------- - 22/23 [gradio]\n",
      "   -------------------------------------- - 22/23 [gradio]\n",
      "   -------------------------------------- - 22/23 [gradio]\n",
      "   -------------------------------------- - 22/23 [gradio]\n",
      "   -------------------------------------- - 22/23 [gradio]\n",
      "   -------------------------------------- - 22/23 [gradio]\n",
      "   -------------------------------------- - 22/23 [gradio]\n",
      "   -------------------------------------- - 22/23 [gradio]\n",
      "   -------------------------------------- - 22/23 [gradio]\n",
      "   -------------------------------------- - 22/23 [gradio]\n",
      "   -------------------------------------- - 22/23 [gradio]\n",
      "   -------------------------------------- - 22/23 [gradio]\n",
      "   -------------------------------------- - 22/23 [gradio]\n",
      "   -------------------------------------- - 22/23 [gradio]\n",
      "   -------------------------------------- - 22/23 [gradio]\n",
      "   -------------------------------------- - 22/23 [gradio]\n",
      "   -------------------------------------- - 22/23 [gradio]\n",
      "   -------------------------------------- - 22/23 [gradio]\n",
      "   -------------------------------------- - 22/23 [gradio]\n",
      "   -------------------------------------- - 22/23 [gradio]\n",
      "   -------------------------------------- - 22/23 [gradio]\n",
      "   -------------------------------------- - 22/23 [gradio]\n",
      "   -------------------------------------- - 22/23 [gradio]\n",
      "   -------------------------------------- - 22/23 [gradio]\n",
      "   -------------------------------------- - 22/23 [gradio]\n",
      "   -------------------------------------- - 22/23 [gradio]\n",
      "   -------------------------------------- - 22/23 [gradio]\n",
      "   -------------------------------------- - 22/23 [gradio]\n",
      "   -------------------------------------- - 22/23 [gradio]\n",
      "   -------------------------------------- - 22/23 [gradio]\n",
      "   -------------------------------------- - 22/23 [gradio]\n",
      "   -------------------------------------- - 22/23 [gradio]\n",
      "   -------------------------------------- - 22/23 [gradio]\n",
      "   -------------------------------------- - 22/23 [gradio]\n",
      "   -------------------------------------- - 22/23 [gradio]\n",
      "   -------------------------------------- - 22/23 [gradio]\n",
      "   -------------------------------------- - 22/23 [gradio]\n",
      "   -------------------------------------- - 22/23 [gradio]\n",
      "   -------------------------------------- - 22/23 [gradio]\n",
      "   -------------------------------------- - 22/23 [gradio]\n",
      "   -------------------------------------- - 22/23 [gradio]\n",
      "   -------------------------------------- - 22/23 [gradio]\n",
      "   -------------------------------------- - 22/23 [gradio]\n",
      "   -------------------------------------- - 22/23 [gradio]\n",
      "   -------------------------------------- - 22/23 [gradio]\n",
      "   -------------------------------------- - 22/23 [gradio]\n",
      "   -------------------------------------- - 22/23 [gradio]\n",
      "   -------------------------------------- - 22/23 [gradio]\n",
      "   -------------------------------------- - 22/23 [gradio]\n",
      "   -------------------------------------- - 22/23 [gradio]\n",
      "   -------------------------------------- - 22/23 [gradio]\n",
      "   -------------------------------------- - 22/23 [gradio]\n",
      "   -------------------------------------- - 22/23 [gradio]\n",
      "   -------------------------------------- - 22/23 [gradio]\n",
      "   -------------------------------------- - 22/23 [gradio]\n",
      "   -------------------------------------- - 22/23 [gradio]\n",
      "   -------------------------------------- - 22/23 [gradio]\n",
      "   -------------------------------------- - 22/23 [gradio]\n",
      "   -------------------------------------- - 22/23 [gradio]\n",
      "   -------------------------------------- - 22/23 [gradio]\n",
      "   -------------------------------------- - 22/23 [gradio]\n",
      "   -------------------------------------- - 22/23 [gradio]\n",
      "   -------------------------------------- - 22/23 [gradio]\n",
      "   -------------------------------------- - 22/23 [gradio]\n",
      "   -------------------------------------- - 22/23 [gradio]\n",
      "   -------------------------------------- - 22/23 [gradio]\n",
      "   -------------------------------------- - 22/23 [gradio]\n",
      "   -------------------------------------- - 22/23 [gradio]\n",
      "   -------------------------------------- - 22/23 [gradio]\n",
      "   -------------------------------------- - 22/23 [gradio]\n",
      "   -------------------------------------- - 22/23 [gradio]\n",
      "   -------------------------------------- - 22/23 [gradio]\n",
      "   -------------------------------------- - 22/23 [gradio]\n",
      "   -------------------------------------- - 22/23 [gradio]\n",
      "   -------------------------------------- - 22/23 [gradio]\n",
      "   -------------------------------------- - 22/23 [gradio]\n",
      "   -------------------------------------- - 22/23 [gradio]\n",
      "   -------------------------------------- - 22/23 [gradio]\n",
      "   -------------------------------------- - 22/23 [gradio]\n",
      "   ---------------------------------------- 23/23 [gradio]\n",
      "\n",
      "Successfully installed aiofiles-24.1.0 annotated-types-0.7.0 brotli-1.1.0 fastapi-0.116.1 ffmpy-0.6.1 gradio-5.42.0 gradio-client-1.11.1 groovy-0.1.2 orjson-3.11.1 pydantic-2.11.7 pydantic-core-2.33.2 pydub-0.25.1 python-multipart-0.0.20 ruff-0.12.8 safehttpx-0.1.6 semantic-version-2.10.0 shellingham-1.5.4 starlette-0.47.2 tomlkit-0.13.3 typer-0.16.0 typing-inspection-0.4.1 uvicorn-0.35.0 websockets-15.0.1\n"
     ]
    }
   ],
   "source": [
    "!pip install gradio jinja2"
   ]
  },
  {
   "cell_type": "code",
   "execution_count": 49,
   "id": "536d647f-346b-4ec3-9b46-d1c559953b46",
   "metadata": {},
   "outputs": [],
   "source": [
    "import tensorflow as tf\n",
    "import gradio as gr\n"
   ]
  },
  {
   "cell_type": "code",
   "execution_count": null,
   "id": "3337f9e2-8913-4040-bda4-c83f6a501ec4",
   "metadata": {},
   "outputs": [],
   "source": [
    "model.save('toxicity.h5')\n"
   ]
  },
  {
   "cell_type": "code",
   "execution_count": null,
   "id": "849f8a10-462f-4a98-971d-f4b9654a52b0",
   "metadata": {},
   "outputs": [],
   "source": [
    "model = tf.keras.models.load_model('toxicity.h5')\n"
   ]
  },
  {
   "cell_type": "code",
   "execution_count": null,
   "id": "261fd0a8-1772-4f86-83ec-79bc839dc21f",
   "metadata": {},
   "outputs": [],
   "source": [
    "input_str = vectorizer('hey i freaken hate you!')"
   ]
  },
  {
   "cell_type": "code",
   "execution_count": null,
   "id": "1a1d10f0-3ff6-48ec-ae9d-dc6e91cbeadf",
   "metadata": {},
   "outputs": [],
   "source": [
    "res = model.predict(np.expand_dims(input_str,0))"
   ]
  },
  {
   "cell_type": "code",
   "execution_count": null,
   "id": "35b9e4d7-afcc-4818-92cf-e96fcb5109f0",
   "metadata": {},
   "outputs": [],
   "source": [
    "res\n"
   ]
  },
  {
   "cell_type": "code",
   "execution_count": null,
   "id": "4afe0288-7dce-4ae5-8864-4b38ba87d0cf",
   "metadata": {},
   "outputs": [],
   "source": [
    "def score_comment(comment):\n",
    "    vectorized_comment = vectorizer([comment])\n",
    "    results = model.predict(vectorized_comment)\n",
    "    \n",
    "    text = ''\n",
    "    for idx, col in enumerate(df.columns[2:]):\n",
    "        text += '{}: {}\\n'.format(col, results[0][idx]>0.5)\n",
    "    \n",
    "    return text"
   ]
  },
  {
   "cell_type": "code",
   "execution_count": null,
   "id": "ca261c5b-f97b-4e52-b1d3-a2724cf46a54",
   "metadata": {},
   "outputs": [],
   "source": [
    "interface = gr.Interface(fn=score_comment, \n",
    "                         inputs=gr.inputs.Textbox(lines=2, placeholder='Comment to score'),\n",
    "                        outputs='text')"
   ]
  },
  {
   "cell_type": "code",
   "execution_count": null,
   "id": "4c7e5afb-cb13-4108-94d2-ab1c3a17fc82",
   "metadata": {},
   "outputs": [],
   "source": [
    "interface.launch(share=True)"
   ]
  },
  {
   "cell_type": "code",
   "execution_count": null,
   "id": "fbcd7863-8dcc-4fde-af5a-17684c68d818",
   "metadata": {},
   "outputs": [],
   "source": []
  },
  {
   "cell_type": "code",
   "execution_count": null,
   "id": "13ee3ed1-60fd-42e5-9877-2425574afb06",
   "metadata": {},
   "outputs": [],
   "source": []
  },
  {
   "cell_type": "code",
   "execution_count": null,
   "id": "24cee2ee-0087-4b16-beb3-ff8daa184f44",
   "metadata": {},
   "outputs": [],
   "source": []
  },
  {
   "cell_type": "code",
   "execution_count": null,
   "id": "6e93fc97-bd03-49dc-aaf7-ab2d24a6657a",
   "metadata": {},
   "outputs": [],
   "source": []
  },
  {
   "cell_type": "code",
   "execution_count": null,
   "id": "429024ab-3507-4b22-a93f-1952103cbdb4",
   "metadata": {},
   "outputs": [],
   "source": []
  },
  {
   "cell_type": "code",
   "execution_count": null,
   "id": "487af4dd-5eb0-41f3-b0de-1b391a581df1",
   "metadata": {},
   "outputs": [],
   "source": []
  }
 ],
 "metadata": {
  "kernelspec": {
   "display_name": "Python 3 (ipykernel)",
   "language": "python",
   "name": "python3"
  },
  "language_info": {
   "codemirror_mode": {
    "name": "ipython",
    "version": 3
   },
   "file_extension": ".py",
   "mimetype": "text/x-python",
   "name": "python",
   "nbconvert_exporter": "python",
   "pygments_lexer": "ipython3",
   "version": "3.12.4"
  }
 },
 "nbformat": 4,
 "nbformat_minor": 5
}
